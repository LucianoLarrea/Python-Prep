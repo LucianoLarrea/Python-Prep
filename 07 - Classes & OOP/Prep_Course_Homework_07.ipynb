{
 "cells": [
  {
   "cell_type": "markdown",
   "metadata": {},
   "source": [
    "## Clases y Programación Orientada a Objetos\n",
    "\n",
    "1) Crear la clase vehículo que contenga los atributos:<br>\n",
    "Color<br>\n",
    "Si es moto, auto, camioneta ó camión<br>\n",
    "Cilindrada del motor\n",
    "\n",
    "2) A la clase Vehiculo creada en el punto 1, agregar los siguientes métodos:<br>\n",
    "Acelerar<br>\n",
    "Frenar<br>\n",
    "Doblar<br>\n",
    "\n",
    "3) Instanciar 3 objetos de la clase vehículo y ejecutar sus métodos, probar luego el resultado\n",
    "\n",
    "4) Agregar a la clase Vehiculo, un método que muestre su estado, es decir, a que velocidad se encuentra y su dirección. Y otro método que muestre color, tipo y cilindrada\n",
    "\n",
    "5) Crear una clase que permita utilizar las funciones creadas en la práctica del módulo 6<br>\n",
    "Verificar Primo<br>\n",
    "Valor modal<br>\n",
    "Conversión grados<br>\n",
    "Factorial<br>\n",
    "\n",
    "6) Probar las funciones incorporadas en la clase del punto 5\n",
    "\n",
    "7) Es necesario que la clase creada en el punto 5 contenga una lista, sobre la cual se aplquen las funciones incorporadas\n",
    "\n",
    "8) Crear un archivo .py aparte y ubicar allí la clase generada en el punto anterior. Luego realizar la importación del módulo y probar alguna de sus funciones"
   ]
  },
  {
   "cell_type": "markdown",
   "metadata": {},
   "source": [
    "1) Crear la clase vehículo que contenga los atributos:<br>\n",
    "Color<br>\n",
    "Si es moto, auto, camioneta ó camión<br>\n",
    "Cilindrada del motor"
   ]
  },
  {
   "cell_type": "code",
   "execution_count": 2,
   "metadata": {},
   "outputs": [
    {
     "name": "stdout",
     "output_type": "stream",
     "text": [
      "100\n"
     ]
    }
   ],
   "source": [
    "class vehiculo:\n",
    "    def __init__(self,color,tipo,cilindrada) -> None:\n",
    "        self.color = color\n",
    "        self.tipo = tipo\n",
    "        self.cilindrada = 0\n",
    "        \n",
    "    \n",
    "    def estado(self,cilindrada):\n",
    "        print(cilindrada)\n",
    "\n",
    "carro = vehiculo('Blanco','Auto',1400)\n",
    "carro.estado(100)\n"
   ]
  },
  {
   "cell_type": "markdown",
   "metadata": {},
   "source": [
    "2) A la clase Vehiculo creada en el punto 1, agregar los siguientes métodos:<br>\n",
    "Acelerar<br>\n",
    "Frenar<br>\n",
    "Doblar<br>"
   ]
  },
  {
   "cell_type": "code",
   "execution_count": 3,
   "metadata": {},
   "outputs": [],
   "source": [
    "class vehiculo:\n",
    "    def __init__(self,color,tipo,cilindrada) -> None:\n",
    "        self.color = color\n",
    "        self.tipo = tipo\n",
    "        self.cilindrada = cilindrada\n",
    "        self.velocidad = 0\n",
    "        self.direccion = 0\n",
    "        \n",
    "    def acelerar(self, vel):\n",
    "        self.velocidad += vel\n",
    "    def frenar(self, vel):\n",
    "        self.velocidad -= vel\n",
    "    def doblar(self, grados):\n",
    "        self.direccion += grados\n",
    "        "
   ]
  },
  {
   "cell_type": "markdown",
   "metadata": {},
   "source": [
    "3) Instanciar 3 objetos de la clase vehículo y ejecutar sus métodos, probar luego el resultado"
   ]
  },
  {
   "cell_type": "code",
   "execution_count": null,
   "metadata": {},
   "outputs": [],
   "source": []
  },
  {
   "cell_type": "code",
   "execution_count": 5,
   "metadata": {},
   "outputs": [
    {
     "data": {
      "text/plain": [
       "400"
      ]
     },
     "execution_count": 5,
     "metadata": {},
     "output_type": "execute_result"
    }
   ],
   "source": [
    "v1 = vehiculo('negro','auto',1400)\n",
    "v2 = vehiculo('blanco','camioneta',1900)\n",
    "v3 = vehiculo('azul','moto',400)\n",
    "v1.frenar(20)\n",
    "v2.acelerar(40)\n",
    "v3.doblar(90)\n",
    "\n",
    "v1.color\n",
    "v2.tipo\n",
    "v3.cilindrada"
   ]
  },
  {
   "cell_type": "markdown",
   "metadata": {},
   "source": [
    "4) Agregar a la clase Vehiculo, un método que muestre su estado, es decir, a que velocidad se encuentra y su dirección. Y otro método que muestre color, tipo y cilindrada"
   ]
  },
  {
   "cell_type": "code",
   "execution_count": 17,
   "metadata": {},
   "outputs": [
    {
     "name": "stdout",
     "output_type": "stream",
     "text": [
      "Velocidad =  -20 , Direccion =  0  grados\n",
      "Velocidad =  40 , Direccion =  0  grados\n",
      "Velocidad =  0 , Direccion =  90  grados\n",
      "Color :  negro  - Tipo:  auto  - Cilindrada:  1400\n",
      "Color :  blanco  - Tipo:  camioneta  - Cilindrada:  1900\n",
      "Color :  azul  - Tipo:  moto  - Cilindrada:  400\n"
     ]
    }
   ],
   "source": [
    "class vehiculo:\n",
    "    def __init__(self,color,tipo,cilindrada) -> None:\n",
    "        self.color = color\n",
    "        self.tipo = tipo\n",
    "        self.cilindrada = cilindrada\n",
    "        self.velocidad = 0\n",
    "        self.direccion = 0\n",
    "        \n",
    "    def acelerar(self, vel):\n",
    "        self.velocidad += vel\n",
    "    def frenar(self, vel):\n",
    "        self.velocidad -= vel\n",
    "    def doblar(self, grados):\n",
    "        self.direccion += grados\n",
    "    def estado(self):\n",
    "        print('Velocidad = ',self.velocidad,', Direccion = ',self.direccion,' grados')\n",
    "    def caracteristicas(self):\n",
    "        print('Color : ',self.color,' - Tipo: ',self.tipo,' - Cilindrada: ',self.cilindrada)\n",
    "        \n",
    "v1 = vehiculo('negro','auto',1400)\n",
    "v2 = vehiculo('blanco','camioneta',1900)\n",
    "v3 = vehiculo('azul','moto',400)\n",
    "v1.frenar(20)\n",
    "v2.acelerar(40)\n",
    "v3.doblar(90)\n",
    "\n",
    "v1.estado()\n",
    "v2.estado()\n",
    "v3.estado()\n",
    "\n",
    "v1.caracteristicas()\n",
    "v2.caracteristicas()\n",
    "v3.caracteristicas()"
   ]
  },
  {
   "cell_type": "markdown",
   "metadata": {},
   "source": [
    "5) Crear una clase que permita utilizar las funciones creadas en la práctica del módulo 6<br>\n",
    "Verificar Primo<br>\n",
    "Valor modal<br>\n",
    "Conversión grados<br>\n",
    "Factorial<br>"
   ]
  },
  {
   "cell_type": "markdown",
   "metadata": {},
   "source": []
  },
  {
   "cell_type": "code",
   "execution_count": 5,
   "metadata": {},
   "outputs": [
    {
     "ename": "TypeError",
     "evalue": "__init__() should return None, not 'str'",
     "output_type": "error",
     "traceback": [
      "\u001b[0;31m---------------------------------------------------------------------------\u001b[0m",
      "\u001b[0;31mTypeError\u001b[0m                                 Traceback (most recent call last)",
      "\u001b[0;32m/var/folders/mz/l2b1bfgx00s051hj7l2h2f080000gn/T/ipykernel_21768/2770215566.py\u001b[0m in \u001b[0;36m<module>\u001b[0;34m\u001b[0m\n\u001b[1;32m      3\u001b[0m         \u001b[0mself\u001b[0m\u001b[0;34m.\u001b[0m\u001b[0mespecie\u001b[0m \u001b[0;34m=\u001b[0m \u001b[0mespecie\u001b[0m\u001b[0;34m\u001b[0m\u001b[0;34m\u001b[0m\u001b[0m\n\u001b[1;32m      4\u001b[0m         \u001b[0;32mreturn\u001b[0m \u001b[0mself\u001b[0m\u001b[0;34m.\u001b[0m\u001b[0mespecie\u001b[0m\u001b[0;34m\u001b[0m\u001b[0;34m\u001b[0m\u001b[0m\n\u001b[0;32m----> 5\u001b[0;31m \u001b[0ma1\u001b[0m \u001b[0;34m=\u001b[0m \u001b[0manimal\u001b[0m\u001b[0;34m(\u001b[0m\u001b[0;34m'Gato'\u001b[0m\u001b[0;34m)\u001b[0m\u001b[0;34m\u001b[0m\u001b[0;34m\u001b[0m\u001b[0m\n\u001b[0m",
      "\u001b[0;31mTypeError\u001b[0m: __init__() should return None, not 'str'"
     ]
    }
   ],
   "source": [
    "class animal:\n",
    "    def __init__(self, especie) -> None:\n",
    "        self.especie = especie\n",
    "        return self.especie\n",
    "a1 = animal('Gato')"
   ]
  }
 ],
 "metadata": {
  "kernelspec": {
   "display_name": "Python 3.9.7 ('base')",
   "language": "python",
   "name": "python3"
  },
  "language_info": {
   "codemirror_mode": {
    "name": "ipython",
    "version": 3
   },
   "file_extension": ".py",
   "mimetype": "text/x-python",
   "name": "python",
   "nbconvert_exporter": "python",
   "pygments_lexer": "ipython3",
   "version": "3.9.7"
  },
  "orig_nbformat": 4,
  "vscode": {
   "interpreter": {
    "hash": "8ac14629f19312879ac43fcd7f7f5d5e7c04fe5d0537197ea3a5d792c05ea177"
   }
  }
 },
 "nbformat": 4,
 "nbformat_minor": 2
}
