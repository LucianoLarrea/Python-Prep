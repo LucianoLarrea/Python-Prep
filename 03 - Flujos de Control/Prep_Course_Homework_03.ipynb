{
 "cells": [
  {
   "cell_type": "markdown",
   "metadata": {},
   "source": [
    "## Flujos de Control\n",
    "\n",
    "1) Crear una variable que contenga un elemento del conjunto de números enteros y luego imprimir por pantalla si es mayor o menor a cero"
   ]
  },
  {
   "cell_type": "code",
   "execution_count": 4,
   "metadata": {},
   "outputs": [
    {
     "name": "stdout",
     "output_type": "stream",
     "text": [
      "1\n"
     ]
    }
   ],
   "source": [
    "a = 1\n",
    "if (a > 0) :\n",
    "    print(a)"
   ]
  },
  {
   "cell_type": "markdown",
   "metadata": {},
   "source": [
    "2) Crear dos variables y un condicional que informe si son del mismo tipo de dato"
   ]
  },
  {
   "cell_type": "code",
   "execution_count": 7,
   "metadata": {},
   "outputs": [
    {
     "name": "stdout",
     "output_type": "stream",
     "text": [
      "ambas variables son del mismo tipo\n"
     ]
    }
   ],
   "source": [
    "a = 1\n",
    "b = 2\n",
    "if (type(a)== type(b)):\n",
    "    print('ambas variables son del mismo tipo')"
   ]
  },
  {
   "cell_type": "markdown",
   "metadata": {},
   "source": [
    "3) Para los valores enteros del 1 al 20, imprimir por pantalla si es par o impar"
   ]
  },
  {
   "cell_type": "code",
   "execution_count": 9,
   "metadata": {},
   "outputs": [
    {
     "name": "stdout",
     "output_type": "stream",
     "text": [
      "El numero  1 es impar\n",
      "El numero  2 es par\n",
      "El numero  3 es impar\n",
      "El numero  4 es par\n",
      "El numero  5 es impar\n",
      "El numero  6 es par\n",
      "El numero  7 es impar\n",
      "El numero  8 es par\n",
      "El numero  9 es impar\n",
      "El numero  10 es par\n",
      "El numero  11 es impar\n",
      "El numero  12 es par\n",
      "El numero  13 es impar\n",
      "El numero  14 es par\n",
      "El numero  15 es impar\n",
      "El numero  16 es par\n",
      "El numero  17 es impar\n",
      "El numero  18 es par\n",
      "El numero  19 es impar\n"
     ]
    }
   ],
   "source": [
    "for i in range(1,20):   \n",
    "    if (i % 2 == 0):\n",
    "        print ('El numero ' ,str(i), 'es par')\n",
    "    else:\n",
    "        print ('El numero ' ,str(i), 'es impar')"
   ]
  },
  {
   "cell_type": "markdown",
   "metadata": {},
   "source": [
    "4) En un ciclo for mostrar para los valores entre 0 y 5 el resultado de elevarlo a la potencia igual a 3"
   ]
  },
  {
   "cell_type": "code",
   "execution_count": 14,
   "metadata": {},
   "outputs": [
    {
     "name": "stdout",
     "output_type": "stream",
     "text": [
      "0 ^3 =  0\n",
      "1 ^3 =  1\n",
      "2 ^3 =  8\n",
      "3 ^3 =  27\n",
      "4 ^3 =  64\n"
     ]
    }
   ],
   "source": [
    "for i in range(0,5):   \n",
    "    \n",
    "    print (str(i),'^3 = ', i**3)\n",
    "    \n",
    "    "
   ]
  },
  {
   "cell_type": "markdown",
   "metadata": {},
   "source": [
    "5) Crear una variable que contenga un número entero y realizar un ciclo for la misma cantidad de ciclos"
   ]
  },
  {
   "cell_type": "code",
   "execution_count": 16,
   "metadata": {},
   "outputs": [
    {
     "name": "stdout",
     "output_type": "stream",
     "text": [
      "0\n",
      "1\n",
      "2\n"
     ]
    }
   ],
   "source": [
    "n = 3\n",
    "for i in range(0,n):\n",
    "    print(i)"
   ]
  },
  {
   "cell_type": "markdown",
   "metadata": {},
   "source": [
    "6) Utilizar un ciclo while para realizar el factorial de un número guardado en una variable, sólo si la variable contiene un número entero mayor a 0"
   ]
  },
  {
   "cell_type": "code",
   "execution_count": 33,
   "metadata": {},
   "outputs": [
    {
     "name": "stdout",
     "output_type": "stream",
     "text": [
      "120\n"
     ]
    }
   ],
   "source": [
    "n = 5\n",
    "if (n > 0):\n",
    "        factorial = n\n",
    "        while (n > 2):\n",
    "            n = n-1\n",
    "            factorial = factorial * n\n",
    "        print(factorial) \n",
    "else:\n",
    "    print('La variable no es un numero positivo')"
   ]
  },
  {
   "cell_type": "markdown",
   "metadata": {},
   "source": [
    "7) Crear un ciclo for dentro de un ciclo while"
   ]
  },
  {
   "cell_type": "code",
   "execution_count": 55,
   "metadata": {},
   "outputs": [
    {
     "name": "stdout",
     "output_type": "stream",
     "text": [
      "While Loop: 2\n",
      "For Loop: 1\n",
      "While Loop: 3\n",
      "For Loop: 1\n",
      "While Loop: 3\n",
      "For Loop: 2\n",
      "While Loop: 4\n",
      "For Loop: 1\n",
      "While Loop: 4\n",
      "For Loop: 2\n",
      "While Loop: 4\n",
      "For Loop: 3\n",
      "While Loop: 5\n",
      "For Loop: 1\n",
      "While Loop: 5\n",
      "For Loop: 2\n",
      "While Loop: 5\n",
      "For Loop: 3\n",
      "While Loop: 5\n",
      "For Loop: 4\n"
     ]
    }
   ],
   "source": [
    "n = 0\n",
    "while (n <= 4):\n",
    "    n += 1\n",
    "    for i in range (1,n):\n",
    "        print ('While Loop: '+str(n))\n",
    "        print ('For Loop: '+str(i))"
   ]
  },
  {
   "cell_type": "markdown",
   "metadata": {},
   "source": [
    "8) Crear un ciclo while dentro de un ciclo for"
   ]
  },
  {
   "cell_type": "code",
   "execution_count": 63,
   "metadata": {},
   "outputs": [
    {
     "name": "stdout",
     "output_type": "stream",
     "text": [
      "2\n",
      "3\n",
      "3\n"
     ]
    }
   ],
   "source": [
    "n = 3\n",
    "for i in range (1,n):\n",
    "    while (i < n):\n",
    "        i += 1\n",
    "        print(i)\n",
    "        \n"
   ]
  },
  {
   "cell_type": "markdown",
   "metadata": {},
   "source": [
    "9) Imprimir los números primos existentes entre 0 y 30"
   ]
  },
  {
   "cell_type": "code",
   "execution_count": 89,
   "metadata": {},
   "outputs": [
    {
     "name": "stdout",
     "output_type": "stream",
     "text": [
      "0\n",
      "1\n",
      "2\n",
      "3\n",
      "5\n",
      "7\n",
      "11\n",
      "13\n",
      "17\n",
      "19\n",
      "23\n",
      "29\n"
     ]
    }
   ],
   "source": [
    "primo = True\n",
    "n = 0\n",
    "while (n < 30):\n",
    "    for div in range(2, n):\n",
    "        if (n % div == 0):\n",
    "            primo = False\n",
    "    if (primo):\n",
    "        print (n)\n",
    "    else: \n",
    "        primo = True\n",
    "    n += 1"
   ]
  },
  {
   "cell_type": "code",
   "execution_count": 87,
   "metadata": {},
   "outputs": [
    {
     "name": "stdout",
     "output_type": "stream",
     "text": [
      "0\n",
      "1\n",
      "2\n",
      "3\n",
      "5\n",
      "7\n",
      "11\n",
      "13\n",
      "17\n",
      "19\n",
      "23\n",
      "29\n"
     ]
    }
   ],
   "source": [
    "tope_rango=30\n",
    "n = 0\n",
    "primo = True\n",
    "while (n < tope_rango):\n",
    "    for div in range(2, n):\n",
    "        if (n % div == 0):\n",
    "            primo = False\n",
    "    if (primo):\n",
    "        print(n)\n",
    "    else:\n",
    "        primo = True\n",
    "    n += 1"
   ]
  },
  {
   "cell_type": "markdown",
   "metadata": {},
   "source": [
    "10) ¿Se puede mejorar el proceso del punto 9? Utilizar las sentencias break y/ó continue para tal fin"
   ]
  },
  {
   "cell_type": "code",
   "execution_count": 5,
   "metadata": {},
   "outputs": [
    {
     "name": "stdout",
     "output_type": "stream",
     "text": [
      "0\n",
      "1\n",
      "2\n",
      "3\n",
      "5\n",
      "7\n",
      "11\n",
      "13\n",
      "17\n",
      "19\n",
      "23\n",
      "29\n"
     ]
    }
   ],
   "source": [
    "primo = True\n",
    "for var in range (0,30):\n",
    "    for div in range (2,var):\n",
    "        if var % div == 0:\n",
    "            primo = False\n",
    "            break\n",
    "        \n",
    "    if(primo):\n",
    "        print(var)\n",
    "    else:\n",
    "        primo = True\n",
    "var = var + 1"
   ]
  },
  {
   "cell_type": "markdown",
   "metadata": {},
   "source": [
    "11) En los puntos 9 y 10, se diseño un código que encuentra números primos y además se lo optimizó. ¿Es posible saber en qué medida se optimizó?"
   ]
  },
  {
   "cell_type": "code",
   "execution_count": 10,
   "metadata": {},
   "outputs": [
    {
     "name": "stdout",
     "output_type": "stream",
     "text": [
      "0\n",
      "1\n",
      "2\n",
      "3\n",
      "5\n",
      "7\n",
      "11\n",
      "13\n",
      "17\n",
      "19\n",
      "23\n",
      "29\n",
      "Ciclos sin break 378\n",
      "0\n",
      "1\n",
      "2\n",
      "3\n",
      "5\n",
      "7\n",
      "11\n",
      "13\n",
      "17\n",
      "19\n",
      "23\n",
      "29\n",
      "Ciclos con break 134\n",
      "Diferencia 244\n"
     ]
    }
   ],
   "source": [
    "sin_break = 0\n",
    "primo = True\n",
    "n = 0\n",
    "while (n < 30):\n",
    "    for div in range(2, n):\n",
    "        sin_break += 1\n",
    "        if (n % div == 0):\n",
    "            primo = False\n",
    "    if (primo):\n",
    "        print (n)\n",
    "    else: \n",
    "        primo = True\n",
    "    n += 1\n",
    "print('Ciclos sin break',sin_break)\n",
    "\n",
    "con_break = 0\n",
    "primo = True\n",
    "for var in range (0,30):\n",
    "    for div in range (2,var):\n",
    "        con_break += 1\n",
    "        if var % div == 0:\n",
    "            primo = False\n",
    "            break\n",
    "        \n",
    "    if(primo):\n",
    "        print(var)\n",
    "    else:\n",
    "        primo = True\n",
    "var = var + 1\n",
    "print('Ciclos con break',con_break)\n",
    "print('Diferencia',sin_break-con_break)"
   ]
  },
  {
   "cell_type": "markdown",
   "metadata": {},
   "source": [
    "12) Si la cantidad de números que se evalúa es mayor a treinta, esa optimización crece?"
   ]
  },
  {
   "cell_type": "code",
   "execution_count": 11,
   "metadata": {},
   "outputs": [
    {
     "name": "stdout",
     "output_type": "stream",
     "text": [
      "0\n",
      "1\n",
      "2\n",
      "3\n",
      "5\n",
      "7\n",
      "11\n",
      "13\n",
      "17\n",
      "19\n",
      "23\n",
      "29\n",
      "31\n",
      "37\n",
      "41\n",
      "43\n",
      "47\n",
      "53\n",
      "59\n",
      "61\n",
      "67\n",
      "71\n",
      "73\n",
      "79\n",
      "83\n",
      "89\n",
      "97\n",
      "Ciclos sin break 4753\n",
      "0\n",
      "1\n",
      "2\n",
      "3\n",
      "5\n",
      "7\n",
      "11\n",
      "13\n",
      "17\n",
      "19\n",
      "23\n",
      "29\n",
      "31\n",
      "37\n",
      "41\n",
      "43\n",
      "47\n",
      "53\n",
      "59\n",
      "61\n",
      "67\n",
      "71\n",
      "73\n",
      "79\n",
      "83\n",
      "89\n",
      "97\n",
      "Ciclos con break 1132\n",
      "Diferencia 3621\n"
     ]
    }
   ],
   "source": [
    "sin_break = 0\n",
    "primo = True\n",
    "n = 0\n",
    "while (n < 100):\n",
    "    for div in range(2, n):\n",
    "        sin_break += 1\n",
    "        if (n % div == 0):\n",
    "            primo = False\n",
    "    if (primo):\n",
    "        print (n)\n",
    "    else: \n",
    "        primo = True\n",
    "    n += 1\n",
    "print('Ciclos sin break',sin_break)\n",
    "\n",
    "con_break = 0\n",
    "primo = True\n",
    "for var in range (0,100):\n",
    "    for div in range (2,var):\n",
    "        con_break += 1\n",
    "        if var % div == 0:\n",
    "            primo = False\n",
    "            break\n",
    "        \n",
    "    if(primo):\n",
    "        print(var)\n",
    "    else:\n",
    "        primo = True\n",
    "var = var + 1\n",
    "print('Ciclos con break',con_break)\n",
    "print('Diferencia',sin_break-con_break)"
   ]
  },
  {
   "cell_type": "markdown",
   "metadata": {},
   "source": [
    "13) Aplicando continue, armar un ciclo while que solo imprima los valores divisibles por 12, dentro del rango de números de 100 a 300"
   ]
  },
  {
   "cell_type": "code",
   "execution_count": 20,
   "metadata": {},
   "outputs": [
    {
     "name": "stdout",
     "output_type": "stream",
     "text": [
      "108\n",
      "120\n",
      "132\n",
      "144\n",
      "156\n",
      "168\n",
      "180\n",
      "192\n",
      "204\n",
      "216\n",
      "228\n",
      "240\n",
      "252\n",
      "264\n",
      "276\n",
      "288\n",
      "300\n"
     ]
    }
   ],
   "source": [
    "n = 101\n",
    "while (100<= n <=300):\n",
    "    \n",
    "    if (n%12 == 0):\n",
    "        print(n)\n",
    "    n += 1"
   ]
  },
  {
   "cell_type": "markdown",
   "metadata": {},
   "source": [
    "14) Utilizar la función **input()** que permite hacer ingresos por teclado, para encontrar números primos y dar la opción al usario de buscar el siguiente"
   ]
  },
  {
   "cell_type": "markdown",
   "metadata": {},
   "source": [
    "15) Crear un ciclo while que encuentre dentro del rango de 100 a 300 el primer número divisible por 3 y además múltiplo de 6"
   ]
  }
 ],
 "metadata": {
  "interpreter": {
   "hash": "8ac14629f19312879ac43fcd7f7f5d5e7c04fe5d0537197ea3a5d792c05ea177"
  },
  "kernelspec": {
   "display_name": "Python 3.9.7 ('base')",
   "language": "python",
   "name": "python3"
  },
  "language_info": {
   "codemirror_mode": {
    "name": "ipython",
    "version": 3
   },
   "file_extension": ".py",
   "mimetype": "text/x-python",
   "name": "python",
   "nbconvert_exporter": "python",
   "pygments_lexer": "ipython3",
   "version": "3.9.7"
  },
  "orig_nbformat": 4
 },
 "nbformat": 4,
 "nbformat_minor": 2
}
